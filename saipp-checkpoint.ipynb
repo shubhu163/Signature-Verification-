{
 "cells": [
  {
   "cell_type": "code",
   "execution_count": 8,
   "metadata": {},
   "outputs": [],
   "source": [
    "#import torch\n",
    "#Preprocess image\n",
    "\n",
    "from skimage.io import imread\n",
    "from skimage import img_as_ubyte \n",
    "from sigver.preprocessing.normalize import(\n",
    "     normalize_image,resize_image,\n",
    "     crop_center,preprocess_signature)\n",
    "#load CNN model\n",
    "from sigver.featurelearning.models import SigNet\n",
    "\n",
    "#for plotting\n",
    "import matplotlib.pyplot as plt\n",
    "%matplotlib inline \n",
    "plt.rcParams['image.cmap']= 'Grey'"
   ]
  },
  {
   "cell_type": "code",
   "execution_count": 4,
   "metadata": {},
   "outputs": [
    {
     "name": "stdout",
     "output_type": "stream",
     "text": [
      "Note: you may need to restart the kernel to use updated packages.\n"
     ]
    },
    {
     "name": "stderr",
     "output_type": "stream",
     "text": [
      "ERROR: Could not find a version that satisfies the requirement sigver (from versions: none)\n",
      "ERROR: No matching distribution found for sigver\n"
     ]
    }
   ],
   "source": [
    "def load_signature(path):\n",
    "    return img_as_ubyte(imread(path, as_grey= True))\n",
    "original= load_signature('')\n"
   ]
  },
  {
   "cell_type": "code",
   "execution_count": 9,
   "metadata": {},
   "outputs": [
    {
     "name": "stdout",
     "output_type": "stream",
     "text": [
      "C:\\Users\\SHUBHANKAR\n"
     ]
    }
   ],
   "source": [
    "cd\n"
   ]
  },
  {
   "cell_type": "code",
   "execution_count": 10,
   "metadata": {},
   "outputs": [
    {
     "name": "stdout",
     "output_type": "stream",
     "text": [
      "C:\\Users\\SHUBHANKAR\n"
     ]
    }
   ],
   "source": [
    "cd\n"
   ]
  },
  {
   "cell_type": "code",
   "execution_count": 11,
   "metadata": {},
   "outputs": [
    {
     "name": "stdout",
     "output_type": "stream",
     "text": [
      "C:\\Users\\SHUBHANKAR\\SIPPROJECT\n"
     ]
    }
   ],
   "source": [
    "cd SIPPROJECT"
   ]
  },
  {
   "cell_type": "code",
   "execution_count": null,
   "metadata": {},
   "outputs": [],
   "source": []
  }
 ],
 "metadata": {
  "kernelspec": {
   "display_name": "Python 3",
   "language": "python",
   "name": "python3"
  },
  "language_info": {
   "codemirror_mode": {
    "name": "ipython",
    "version": 3
   },
   "file_extension": ".py",
   "mimetype": "text/x-python",
   "name": "python",
   "nbconvert_exporter": "python",
   "pygments_lexer": "ipython3",
   "version": "3.8.5"
  }
 },
 "nbformat": 4,
 "nbformat_minor": 4
}
